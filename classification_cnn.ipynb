{
  "nbformat": 4,
  "nbformat_minor": 0,
  "metadata": {
    "colab": {
      "provenance": [],
      "gpuType": "T4",
      "authorship_tag": "ABX9TyMD2dosmpds8x0JwQHYVT0o",
      "include_colab_link": true
    },
    "kernelspec": {
      "name": "python3",
      "display_name": "Python 3"
    },
    "language_info": {
      "name": "python"
    },
    "accelerator": "GPU"
  },
  "cells": [
    {
      "cell_type": "markdown",
      "metadata": {
        "id": "view-in-github",
        "colab_type": "text"
      },
      "source": [
        "<a href=\"https://colab.research.google.com/github/YordanIg/learning-ML/blob/main/classification_cnn.ipynb\" target=\"_parent\"><img src=\"https://colab.research.google.com/assets/colab-badge.svg\" alt=\"Open In Colab\"/></a>"
      ]
    },
    {
      "cell_type": "markdown",
      "source": [
        "Perform image classification with a CNN."
      ],
      "metadata": {
        "id": "wqt3QHD7UVGN"
      }
    },
    {
      "cell_type": "code",
      "execution_count": null,
      "metadata": {
        "id": "UC3ny3ylUH9u"
      },
      "outputs": [],
      "source": [
        "import torch\n",
        "import torchvision\n",
        "import torchvision.transforms as transforms\n",
        "import torch.nn as nn\n",
        "import torch.nn.functional as F"
      ]
    },
    {
      "cell_type": "code",
      "source": [
        "if torch.cuda.is_available():\n",
        "  print(\"CUDA available, using GPU.\")\n",
        "  torch.device(\"cuda\")\n",
        "else:\n",
        "  print(\"CUDA unavailable, using CPU.\")\n",
        "  torch.device(\"cpu\")"
      ],
      "metadata": {
        "colab": {
          "base_uri": "https://localhost:8080/"
        },
        "id": "Pt7vtBh_UuIr",
        "outputId": "fccfccb1-df4a-41ef-dd25-5d2cbf47fc96"
      },
      "execution_count": null,
      "outputs": [
        {
          "output_type": "stream",
          "name": "stdout",
          "text": [
            "CUDA available, using GPU.\n"
          ]
        }
      ]
    },
    {
      "cell_type": "code",
      "source": [
        "# Load training and testing datasets.\n",
        "to_tensor = transforms.ToTensor()\n",
        "trainset  = torchvision.datasets.MNIST(root='./data', train=True,\n",
        "                                       download=True, transform=to_tensor)\n",
        "testset   = torchvision.datasets.MNIST(root='./data', train=False,\n",
        "                                       download=True, transform=to_tensor)"
      ],
      "metadata": {
        "colab": {
          "base_uri": "https://localhost:8080/"
        },
        "id": "62zHC1SSVnix",
        "outputId": "9ac9352b-d071-47c4-e3d2-a412e97a59ae"
      },
      "execution_count": null,
      "outputs": [
        {
          "output_type": "stream",
          "name": "stderr",
          "text": [
            "100%|██████████| 9.91M/9.91M [00:01<00:00, 5.17MB/s]\n",
            "100%|██████████| 28.9k/28.9k [00:00<00:00, 134kB/s]\n",
            "100%|██████████| 1.65M/1.65M [00:01<00:00, 1.28MB/s]\n",
            "100%|██████████| 4.54k/4.54k [00:00<00:00, 7.76MB/s]\n"
          ]
        }
      ]
    },
    {
      "cell_type": "code",
      "source": [
        "# Instantiate dataloaders.\n",
        "trainloader = torch.utils.data.DataLoader(trainset, batch_size=64, shuffle=True)\n",
        "testloader  = torch.utils.data.DataLoader(testset, batch_size=64, shuffle=False)"
      ],
      "metadata": {
        "id": "TMRnou4jWKqz"
      },
      "execution_count": null,
      "outputs": []
    },
    {
      "cell_type": "code",
      "source": [
        "# Set up the CNN.\n",
        "class CNN(nn.Module):\n",
        "  def __init__(self):\n",
        "    super().__init__()\n",
        "    # Convolutional layer 1: (1,28,28) -> (16,28,28) -> (16,14,14).\n",
        "    self.conv1 = nn.Conv2d(in_channels=1, out_channels=16,\n",
        "                           kernel_size=3, padding=1)\n",
        "    self.pool1 = nn.MaxPool2d(kernel_size=2, stride=2)\n",
        "\n",
        "    # Convolutional layer 2: (16,14,14) -> (32,14,14) -> (32,7,7).\n",
        "    self.conv2 = nn.Conv2d(in_channels=16, out_channels=32,\n",
        "                           kernel_size=3, padding=1)\n",
        "    self.pool2 = nn.MaxPool2d(kernel_size=2, stride=2)\n",
        "\n",
        "    # FFN.\n",
        "    self.fc1 = nn.Linear(in_features=32*7*7, out_features=128)\n",
        "    self.fc2 = nn.Linear(in_features=128, out_features=10)\n",
        "\n",
        "  def forward(self, x):\n",
        "    # Convolutional layer 1.\n",
        "    x = F.relu(self.conv1(x))\n",
        "    x = self.pool1(x)\n",
        "\n",
        "    # Convolutional layer 2.\n",
        "    x = F.relu(self.conv2(x))\n",
        "    x = self.pool2(x)\n",
        "\n",
        "    # FFN.\n",
        "    x = x.view(-1,32*7*7)\n",
        "    x = F.relu(self.fc1(x))\n",
        "    x = self.fc2(x)         # Do not apply ReLU as will use CELoss.\n",
        "    return x\n"
      ],
      "metadata": {
        "id": "I9KQx2P8WkE9"
      },
      "execution_count": null,
      "outputs": []
    },
    {
      "cell_type": "code",
      "source": [
        "# Test to see if network works on a batch of 3 noise images of the correct\n",
        "# shape and with 1 colour channel each.\n",
        "x = torch.rand((3,1,28,28))\n",
        "model = CNN()\n",
        "model(x)"
      ],
      "metadata": {
        "id": "UaSC27JWgSuq",
        "colab": {
          "base_uri": "https://localhost:8080/"
        },
        "outputId": "58449fd4-004f-40f0-d6d9-bb4982a668d1"
      },
      "execution_count": null,
      "outputs": [
        {
          "output_type": "execute_result",
          "data": {
            "text/plain": [
              "tensor([[-0.0420, -0.0165, -0.0618, -0.0421, -0.0830, -0.0439,  0.0086,  0.0790,\n",
              "         -0.0780, -0.0431],\n",
              "        [-0.0358, -0.0143, -0.0528, -0.0487, -0.0873, -0.0346,  0.0164,  0.0711,\n",
              "         -0.0790, -0.0403],\n",
              "        [-0.0303, -0.0106, -0.0463, -0.0425, -0.0803, -0.0375,  0.0206,  0.0846,\n",
              "         -0.0798, -0.0446]], grad_fn=<AddmmBackward0>)"
            ]
          },
          "metadata": {},
          "execution_count": 39
        }
      ]
    },
    {
      "cell_type": "code",
      "source": [
        "# Set up loss.\n",
        "criterion = nn.CrossEntropyLoss()\n",
        "optimizer = torch.optim.Adam(model.parameters(), lr=0.001)"
      ],
      "metadata": {
        "id": "cr8VzPkdpjyx"
      },
      "execution_count": null,
      "outputs": []
    },
    {
      "cell_type": "code",
      "source": [
        "# Training loop.\n",
        "num_epochs = 8\n",
        "for epoch in range(num_epochs):\n",
        "  running_loss = 0\n",
        "  for i, data in enumerate(trainloader):\n",
        "    # Zero the gradients.\n",
        "    optimizer.zero_grad()\n",
        "    # Compute the loss.\n",
        "    x, y = data\n",
        "    prediction = model(x)\n",
        "    loss = criterion(prediction, y)\n",
        "    # Compute the gradients and take a step.\n",
        "    loss.backward()\n",
        "    optimizer.step()\n",
        "    # Update the running loss.\n",
        "    running_loss += loss.item()\n",
        "    if i%200==0 and i!=0:\n",
        "      print(f\"Epoch {epoch+1}, Batch {i+1}: avg loss since last print {running_loss/200:.3f}\")\n",
        "      running_loss = 0\n",
        "print(\"Training complete\")"
      ],
      "metadata": {
        "colab": {
          "base_uri": "https://localhost:8080/"
        },
        "id": "pCRTA78kup48",
        "outputId": "7938825b-eaec-41da-91a5-21d3bbc8f73d"
      },
      "execution_count": null,
      "outputs": [
        {
          "output_type": "stream",
          "name": "stdout",
          "text": [
            "Epoch 1, Batch 201: avg loss since last print 0.569\n",
            "Epoch 1, Batch 401: avg loss since last print 0.168\n",
            "Epoch 1, Batch 601: avg loss since last print 0.119\n",
            "Epoch 1, Batch 801: avg loss since last print 0.093\n",
            "Epoch 2, Batch 201: avg loss since last print 0.067\n",
            "Epoch 2, Batch 401: avg loss since last print 0.068\n",
            "Epoch 2, Batch 601: avg loss since last print 0.063\n",
            "Epoch 2, Batch 801: avg loss since last print 0.062\n",
            "Epoch 3, Batch 201: avg loss since last print 0.045\n",
            "Epoch 3, Batch 401: avg loss since last print 0.045\n",
            "Epoch 3, Batch 601: avg loss since last print 0.046\n",
            "Epoch 3, Batch 801: avg loss since last print 0.042\n",
            "Epoch 4, Batch 201: avg loss since last print 0.033\n",
            "Epoch 4, Batch 401: avg loss since last print 0.032\n",
            "Epoch 4, Batch 601: avg loss since last print 0.031\n",
            "Epoch 4, Batch 801: avg loss since last print 0.034\n",
            "Epoch 5, Batch 201: avg loss since last print 0.022\n",
            "Epoch 5, Batch 401: avg loss since last print 0.031\n",
            "Epoch 5, Batch 601: avg loss since last print 0.027\n",
            "Epoch 5, Batch 801: avg loss since last print 0.024\n",
            "Epoch 6, Batch 201: avg loss since last print 0.019\n",
            "Epoch 6, Batch 401: avg loss since last print 0.017\n",
            "Epoch 6, Batch 601: avg loss since last print 0.029\n",
            "Epoch 6, Batch 801: avg loss since last print 0.023\n",
            "Epoch 7, Batch 201: avg loss since last print 0.013\n",
            "Epoch 7, Batch 401: avg loss since last print 0.017\n",
            "Epoch 7, Batch 601: avg loss since last print 0.015\n",
            "Epoch 7, Batch 801: avg loss since last print 0.021\n",
            "Epoch 8, Batch 201: avg loss since last print 0.012\n",
            "Epoch 8, Batch 401: avg loss since last print 0.012\n",
            "Epoch 8, Batch 601: avg loss since last print 0.015\n",
            "Epoch 8, Batch 801: avg loss since last print 0.019\n",
            "Training complete\n"
          ]
        }
      ]
    },
    {
      "cell_type": "code",
      "source": [
        "total = 0\n",
        "correct = 0\n",
        "with torch.no_grad():\n",
        "  for data in testloader:\n",
        "    x, y = data\n",
        "    outputs = model(x)\n",
        "    _, predictions = torch.max(outputs.data, 1)\n",
        "    total += y.size(0)\n",
        "    correct += (predictions == y).sum().item()  # See example for explanation.\n",
        "\n",
        "accuracy = 100 * correct/total\n",
        "print(f\"Model accuracy is {accuracy}\")"
      ],
      "metadata": {
        "colab": {
          "base_uri": "https://localhost:8080/"
        },
        "id": "ASaKvRKiyFz3",
        "outputId": "2373c63e-6a67-4b99-ae61-6c44903bce1c"
      },
      "execution_count": null,
      "outputs": [
        {
          "output_type": "stream",
          "name": "stdout",
          "text": [
            "Model accuracy is 98.99\n"
          ]
        }
      ]
    },
    {
      "cell_type": "code",
      "source": [
        "## Tweaking hyperparameters.\n",
        "# When run with 512 hidden FC nodes, get\n",
        "# >> Epoch 8, Batch 801: avg loss since last print 0.012\n",
        "# >> Model accuracy is 98.99\n",
        "# When run with 256 hidden FC nodes, get\n",
        "# >> Epoch 8, Batch 801: avg loss since last print 0.013\n",
        "# >> Model accuracy is 98.99\n",
        "# When run with 128 hidden FC nodes, get\n",
        "# >> Model accuracy is 98.9\n",
        "# When run with 64 hidden FC nodes, get\n",
        "# >> Model accuracy is 99.01\n",
        "# When run with 32 hidden FC nodes, get\n",
        "# >> Model accuracy is 98.8\n",
        "\n",
        "# Beginning to get lower performance. Doesn't look like the 512 version is\n",
        "# overfitting."
      ],
      "metadata": {
        "id": "DKHrTGYZ3rSs"
      },
      "execution_count": null,
      "outputs": []
    },
    {
      "cell_type": "code",
      "source": [
        "# Example of what the (predictions == y).sum().item() line does.\n",
        "# This simply compares the two vectors element-wise, sums the number of \"True\"s\n",
        "# and converts it into an integer.\n",
        "a = torch.tensor([1, 2, 3, 4])\n",
        "b = torch.tensor([5, 2, 6, 4])\n",
        "print(a == b)\n",
        "print((a == b).sum())\n",
        "print((a == b).sum().item())"
      ],
      "metadata": {
        "colab": {
          "base_uri": "https://localhost:8080/"
        },
        "id": "jlSEXtcrzPaV",
        "outputId": "735f1bc1-104a-49dc-e250-ed8ce590ea3d"
      },
      "execution_count": null,
      "outputs": [
        {
          "output_type": "stream",
          "name": "stdout",
          "text": [
            "tensor([False,  True, False,  True])\n",
            "tensor(2)\n",
            "2\n"
          ]
        }
      ]
    }
  ]
}