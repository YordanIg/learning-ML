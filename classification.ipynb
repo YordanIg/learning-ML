{
  "nbformat": 4,
  "nbformat_minor": 0,
  "metadata": {
    "colab": {
      "provenance": [],
      "gpuType": "T4",
      "authorship_tag": "ABX9TyOw80A8fNmsbn70J90RDG4r",
      "include_colab_link": true
    },
    "kernelspec": {
      "name": "python3",
      "display_name": "Python 3"
    },
    "language_info": {
      "name": "python"
    },
    "accelerator": "GPU"
  },
  "cells": [
    {
      "cell_type": "markdown",
      "metadata": {
        "id": "view-in-github",
        "colab_type": "text"
      },
      "source": [
        "<a href=\"https://colab.research.google.com/github/YordanIg/learning-ML/blob/main/classification.ipynb\" target=\"_parent\"><img src=\"https://colab.research.google.com/assets/colab-badge.svg\" alt=\"Open In Colab\"/></a>"
      ]
    },
    {
      "cell_type": "markdown",
      "source": [
        "Perform some MNIST classifications with a fully connected FFN."
      ],
      "metadata": {
        "id": "C-Vas3f4bpql"
      }
    },
    {
      "cell_type": "code",
      "source": [
        "import torch\n",
        "import torchvision\n",
        "import torchvision.transforms as transforms\n",
        "import torch.nn as nn\n",
        "import torch.nn.functional as F"
      ],
      "metadata": {
        "id": "_CP0OWLdb_cu"
      },
      "execution_count": null,
      "outputs": []
    },
    {
      "cell_type": "code",
      "source": [
        "# Use CUDA if available.\n",
        "if torch.cuda.is_available():\n",
        "    print(\"CUDA is available! Using GPU.\")\n",
        "    device = torch.device(\"cuda\")\n",
        "    print(f\"GPU Name: {torch.cuda.get_device_name(0)}\") # Prints the name of the first GPU\n",
        "else:\n",
        "    print(\"CUDA is not available. Using CPU.\")\n",
        "    device = torch.device(\"cpu\")"
      ],
      "metadata": {
        "colab": {
          "base_uri": "https://localhost:8080/"
        },
        "id": "5cgOuR3fzZ_j",
        "outputId": "96bef4e5-fd46-449c-99b2-6605d4fbe865"
      },
      "execution_count": null,
      "outputs": [
        {
          "output_type": "stream",
          "name": "stdout",
          "text": [
            "CUDA is available! Using GPU.\n",
            "GPU Name: Tesla T4\n"
          ]
        }
      ]
    },
    {
      "cell_type": "code",
      "source": [
        "# Load the training and testing datasets, transforming them to tensors.\n",
        "to_tensor = transforms.ToTensor()\n",
        "trainset  = torchvision.datasets.MNIST(root=\"./data\", train=True,\n",
        "                                       download=True, transform=to_tensor)\n",
        "testset   = torchvision.datasets.MNIST(root=\"./data\", train=False,\n",
        "                                       download=True, transform=to_tensor)"
      ],
      "metadata": {
        "id": "CEvMLO_3evDZ"
      },
      "execution_count": null,
      "outputs": []
    },
    {
      "cell_type": "code",
      "source": [
        "# Set up the data loaders for the training and test sets. Training loader should\n",
        "# shuffle the data so the model doesn't memorise their order, while testing\n",
        "# loader doesn't need to do that.\n",
        "trainloader = torch.utils.data.DataLoader(trainset, batch_size=64, shuffle=True)\n",
        "testloader  = torch.utils.data.DataLoader(testset, batch_size=64, shuffle=False)"
      ],
      "metadata": {
        "id": "8eeT2K3vfU9Q"
      },
      "execution_count": null,
      "outputs": []
    },
    {
      "cell_type": "code",
      "source": [
        "# Set up the basic FFN to perform classification.\n",
        "class FFN(nn.Module):\n",
        "  def __init__(self):\n",
        "    super().__init__()\n",
        "    self.fc1 = nn.Linear(28*28, 128)\n",
        "    self.fc2 = nn.Linear(128, 64)\n",
        "    self.fc3 = nn.Linear(64, 10)\n",
        "  def forward(self, x):\n",
        "    x = x.view(-1, 28**2)\n",
        "    x = F.relu(self.fc1(x))\n",
        "    x = F.relu(self.fc2(x))\n",
        "    x = self.fc3(x)  # Do not apply ReLU as will use CELoss.\n",
        "    return x"
      ],
      "metadata": {
        "id": "JVl5LEeoj3Yk"
      },
      "execution_count": null,
      "outputs": []
    },
    {
      "cell_type": "code",
      "source": [
        "model = FFN()\n",
        "criterion = nn.CrossEntropyLoss()\n",
        "optimizer = torch.optim.Adam(model.parameters(), lr=0.001)"
      ],
      "metadata": {
        "id": "rJF_egk_nLV6"
      },
      "execution_count": null,
      "outputs": []
    },
    {
      "cell_type": "code",
      "source": [
        "# Training loop\n",
        "num_epochs = 8\n",
        "for epoch in range(num_epochs):\n",
        "  running_loss = 0\n",
        "  for i, data in enumerate(trainloader):\n",
        "    images, labels = data\n",
        "    optimizer.zero_grad()              # Zeros the model's parameter gradients.\n",
        "    outputs = model(images)            # Forward pass.\n",
        "    loss = criterion(outputs, labels)  # Evaluate loss function.\n",
        "    loss.backward()                    # Compute the parameter gradients.\n",
        "    optimizer.step()                   # Use gradients to take a step.\n",
        "    running_loss += loss.item()\n",
        "    # Every 200 batches, print the average loss.\n",
        "    if i%200==0 and i!=0:\n",
        "      print(f\"Epoch {epoch+1}, Batch {i+1}, loss {running_loss/200:0.3f}\")\n",
        "      running_loss = 0\n",
        "print(\"Finished training.\")"
      ],
      "metadata": {
        "colab": {
          "base_uri": "https://localhost:8080/"
        },
        "id": "Kf2o3DkXogDY",
        "outputId": "1f25b09d-2b56-442d-8b22-dc4a4fa549ce"
      },
      "execution_count": null,
      "outputs": [
        {
          "output_type": "stream",
          "name": "stdout",
          "text": [
            "Epoch 1, Batch 1, loss 0.012\n",
            "Epoch 1, Batch 201, loss 0.694\n",
            "Epoch 1, Batch 401, loss 0.294\n",
            "Epoch 1, Batch 601, loss 0.236\n",
            "Epoch 1, Batch 801, loss 0.207\n",
            "Epoch 2, Batch 1, loss 0.001\n",
            "Epoch 2, Batch 201, loss 0.162\n",
            "Epoch 2, Batch 401, loss 0.144\n",
            "Epoch 2, Batch 601, loss 0.140\n",
            "Epoch 2, Batch 801, loss 0.117\n",
            "Epoch 3, Batch 1, loss 0.000\n",
            "Epoch 3, Batch 201, loss 0.102\n",
            "Epoch 3, Batch 401, loss 0.099\n",
            "Epoch 3, Batch 601, loss 0.097\n",
            "Epoch 3, Batch 801, loss 0.091\n",
            "Epoch 4, Batch 1, loss 0.000\n",
            "Epoch 4, Batch 201, loss 0.075\n",
            "Epoch 4, Batch 401, loss 0.073\n",
            "Epoch 4, Batch 601, loss 0.081\n",
            "Epoch 4, Batch 801, loss 0.067\n",
            "Epoch 5, Batch 1, loss 0.000\n",
            "Epoch 5, Batch 201, loss 0.057\n",
            "Epoch 5, Batch 401, loss 0.055\n",
            "Epoch 5, Batch 601, loss 0.057\n",
            "Epoch 5, Batch 801, loss 0.056\n",
            "Epoch 6, Batch 1, loss 0.000\n",
            "Epoch 6, Batch 201, loss 0.045\n",
            "Epoch 6, Batch 401, loss 0.039\n",
            "Epoch 6, Batch 601, loss 0.053\n",
            "Epoch 6, Batch 801, loss 0.040\n",
            "Epoch 7, Batch 1, loss 0.000\n",
            "Epoch 7, Batch 201, loss 0.036\n",
            "Epoch 7, Batch 401, loss 0.034\n",
            "Epoch 7, Batch 601, loss 0.035\n",
            "Epoch 7, Batch 801, loss 0.040\n",
            "Epoch 8, Batch 1, loss 0.000\n",
            "Epoch 8, Batch 201, loss 0.025\n",
            "Epoch 8, Batch 401, loss 0.029\n",
            "Epoch 8, Batch 601, loss 0.034\n",
            "Epoch 8, Batch 801, loss 0.032\n",
            "Finished training.\n"
          ]
        }
      ]
    },
    {
      "cell_type": "code",
      "source": [
        "# Evaluate the model.\n",
        "correct = 0\n",
        "total   = 0\n",
        "with torch.no_grad():\n",
        "  for data in testloader:\n",
        "    images, labels = data\n",
        "    outputs        = model(images)\n",
        "    # Access only the output values (not their gradients) using outputs.data.\n",
        "    # torch.max returns (value, index) - we only care about index.\n",
        "    _, predicted   = torch.max(outputs.data, 1)\n",
        "    total += labels.size(0)\n",
        "    for pred, lab in zip(predicted, labels):\n",
        "      if pred == lab:\n",
        "        correct += 1"
      ],
      "metadata": {
        "id": "0mR7_bMhtBxb"
      },
      "execution_count": null,
      "outputs": []
    },
    {
      "cell_type": "code",
      "source": [
        "accuracy = 100 * correct / total\n",
        "print(f\"Model accuracy is {accuracy}\")"
      ],
      "metadata": {
        "colab": {
          "base_uri": "https://localhost:8080/"
        },
        "id": "62RMkovqy0BV",
        "outputId": "1ba592a8-62f0-47dd-ab2d-7c02393bb915"
      },
      "execution_count": null,
      "outputs": [
        {
          "output_type": "stream",
          "name": "stdout",
          "text": [
            "Model accuracy is 97.65\n"
          ]
        }
      ]
    },
    {
      "cell_type": "code",
      "source": [],
      "metadata": {
        "id": "99Pll_mRwVfs"
      },
      "execution_count": null,
      "outputs": []
    }
  ]
}